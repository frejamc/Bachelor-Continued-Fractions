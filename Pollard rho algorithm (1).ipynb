{
 "cells": [
  {
   "cell_type": "markdown",
   "id": "a36a619d",
   "metadata": {},
   "source": [
    "Implementation of Pollard's rho algorithm. I am using functional programming, where the pollard-method is the main function."
   ]
  },
  {
   "cell_type": "code",
   "execution_count": 5,
   "id": "6252a779",
   "metadata": {},
   "outputs": [],
   "source": [
    "import random\n",
    "import math\n",
    "\n",
    "def greatestCommonDivisor(n, m):\n",
    "    '''\n",
    "    Computes the greatest common divisor of two numbers.\n",
    "    Args:\n",
    "        n (int): The first number.\n",
    "        m (int): The second number.\n",
    "\n",
    "    Returns:\n",
    "        int: The greatest common divisor of n and m.\n",
    "    '''\n",
    "    if n < 0:\n",
    "        n = -n\n",
    "    if m < 0:\n",
    "        m = -m\n",
    "    while m:\n",
    "        n, m = m, n % m\n",
    "    return n\n",
    "\n",
    "def primesLessThanP(p):\n",
    "    '''\n",
    "    Returns a list of primes less than or equal to p.\n",
    "    Args:\n",
    "        p (int): The upper limit for generating primes.\n",
    "\n",
    "    Returns:\n",
    "        list: A list of primes less than or equal to p.\n",
    "            \n",
    "    Implemented with assistance from ChatGPT.\n",
    "    '''\n",
    "    sieve = [True] * (p + 1)\n",
    "    sieve[0] = sieve[1] = False\n",
    "    for i in range(2, int(p ** 0.5) + 1):\n",
    "        if sieve[i]:\n",
    "            sieve[i * i: p + 1: i] = [False] * len(sieve[i * i: p + 1: i])\n",
    "    return [i for i in range(2, p + 1) if sieve[i]]\n",
    "\n",
    "\n",
    "def smallNumber(N):\n",
    "    '''\n",
    "    Returns a prime factor or None.\n",
    "    \n",
    "    Returns:\n",
    "        p (int): prime factor of N.\n",
    "    '''\n",
    "    for p in primesLessThanP(math.isqrt(N)):\n",
    "        if (N % p) == 0:\n",
    "            return p\n",
    "\n",
    "def pollard(N):\n",
    "    '''\n",
    "    Returns a the factor of N.\n",
    "            Parameters:\n",
    "                N (int): The integer to factor\n",
    "            Returns: \n",
    "                p (int): A factor of N\n",
    "    '''\n",
    "    if N < 1:\n",
    "        N *= -1\n",
    "    if N < 100:\n",
    "        if smallNumber(N) != None:\n",
    "            return smallNumber(N)\n",
    "    \n",
    "    # First, we define a recursive function with a random constant \n",
    "    a = random.randrange(1, N-1)  \n",
    "    def f(v):\n",
    "        return (v**2 - a) % N\n",
    "    # Random initial value of x \n",
    "    x = random.randrange(2, N-1)\n",
    "    y = x\n",
    "    Q = 1\n",
    "    # Choose how often we check the gcd\n",
    "    loops = 10 if N < 10**20 else 100\n",
    "    if N < 10**4:\n",
    "        loops = 1\n",
    "    # We try to find a factor of N within 10**12 loops \n",
    "    for i in range(10**12):\n",
    "        # Update x and y such that y = x_2i\n",
    "        x = f(x)\n",
    "        y = f(y)\n",
    "        y = f(y) \n",
    "        # Calculate the product of x_2i - x_i\n",
    "        Q = (Q*(y-x)) % N \n",
    "        # For every 1 or 10 or 100 loops, we check if we have a factor of N\n",
    "        if i % loops == 0:\n",
    "            p = greatestCommonDivisor(Q,N)\n",
    "            if p>1 and p<N:\n",
    "                return p\n"
   ]
  },
  {
   "cell_type": "markdown",
   "id": "5b0f123c",
   "metadata": {},
   "source": [
    "In my experience, a factor of $ 2^{64} + 1$ can be found within a second, and a factor of $F_7 = 2^{128}+1$ can be found within 15 minutes. The algorithm can even find a factor of $F_8 = 2^{256} + 1$ in between a few seconds and a few minutes.   \n",
    "The algorithm also works well with small numbers such as $12007001 = 3001\\cdot 4001$.    \n",
    "However, $N = 211303189624194138769683970573614129613 = 14536271517283726673 \\cdot 14536271517283726781\t$ seems to be an impossible challenge in this algorithm, due to the big prime factors.    \n",
    "Beware that this algorithm does not know how to detect a prime number, so if N is a prime, it will run $10^12$ times."
   ]
  },
  {
   "cell_type": "code",
   "execution_count": 10,
   "id": "2fb9c56d",
   "metadata": {},
   "outputs": [
    {
     "name": "stdout",
     "output_type": "stream",
     "text": [
      "A factor of -1234151617181928888 is 4. \n",
      "\n",
      "Execution time: 0.0014 seconds\n"
     ]
    }
   ],
   "source": [
    "import time\n",
    "\n",
    "# Feel free to test the algorithm with different integers N\n",
    "N = 2**64 + 1 \n",
    "N = 2**128 + 1\n",
    "N = 2**256 + 1\n",
    "N = -1234151617181928888\n",
    "\n",
    "start_time = time.time()\n",
    "print(\"A factor of %s is %s. \\n\" % (N,pollard(N)))\n",
    "end_time = time.time()\n",
    "\n",
    "print(\"Execution time:\", round(end_time - start_time,4), \"seconds\")"
   ]
  }
 ],
 "metadata": {
  "kernelspec": {
   "display_name": "Python 3 (ipykernel)",
   "language": "python",
   "name": "python3"
  },
  "language_info": {
   "codemirror_mode": {
    "name": "ipython",
    "version": 3
   },
   "file_extension": ".py",
   "mimetype": "text/x-python",
   "name": "python",
   "nbconvert_exporter": "python",
   "pygments_lexer": "ipython3",
   "version": "3.9.13"
  }
 },
 "nbformat": 4,
 "nbformat_minor": 5
}
